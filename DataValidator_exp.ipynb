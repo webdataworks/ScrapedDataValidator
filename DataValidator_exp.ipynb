{
 "cells": [
  {
   "cell_type": "code",
   "execution_count": 42,
   "id": "7141fd36-9e96-4961-8dd4-6512a2490240",
   "metadata": {},
   "outputs": [],
   "source": [
    "from pyspark.sql import SparkSession\n",
    "import json"
   ]
  },
  {
   "cell_type": "code",
   "execution_count": 43,
   "id": "41a79043-0106-4217-959f-c151e0eba6d4",
   "metadata": {},
   "outputs": [],
   "source": [
    "spark = SparkSession.builder.appName(\"learning-dataframe\").getOrCreate()"
   ]
  },
  {
   "cell_type": "code",
   "execution_count": 44,
   "id": "03bdd6aa-4987-4b1f-8f45-34977067ebde",
   "metadata": {},
   "outputs": [
    {
     "data": {
      "text/html": [
       "\n",
       "            <div>\n",
       "                <p><b>SparkSession - hive</b></p>\n",
       "                \n",
       "        <div>\n",
       "            <p><b>SparkContext</b></p>\n",
       "\n",
       "            <p><a href=\"http://ml001.internal.cloudapp.net:4040\">Spark UI</a></p>\n",
       "\n",
       "            <dl>\n",
       "              <dt>Version</dt>\n",
       "                <dd><code>v3.1.2</code></dd>\n",
       "              <dt>Master</dt>\n",
       "                <dd><code>local[*]</code></dd>\n",
       "              <dt>AppName</dt>\n",
       "                <dd><code>pyspark-shell</code></dd>\n",
       "            </dl>\n",
       "        </div>\n",
       "        \n",
       "            </div>\n",
       "        "
      ],
      "text/plain": [
       "<pyspark.sql.session.SparkSession at 0x7f18ca049cd0>"
      ]
     },
     "execution_count": 44,
     "metadata": {},
     "output_type": "execute_result"
    }
   ],
   "source": [
    "spark"
   ]
  },
  {
   "cell_type": "code",
   "execution_count": 5,
   "id": "a01478a3-95aa-4fd1-8a12-7f508e7a2aed",
   "metadata": {
    "tags": []
   },
   "outputs": [],
   "source": [
    "df = spark.read.option('header',\"true\").csv(\"bodylab_search.csv\", inferSchema = True)"
   ]
  },
  {
   "cell_type": "code",
   "execution_count": 28,
   "id": "1a936a89-6ffa-46cc-ab2a-7c4a16dcc3db",
   "metadata": {
    "collapsed": true,
    "jupyter": {
     "outputs_hidden": true
    },
    "tags": []
   },
   "outputs": [
    {
     "name": "stdout",
     "output_type": "stream",
     "text": [
      "root\n",
      " |-- Product_Code: integer (nullable = true)\n",
      " |-- Product_Name: string (nullable = true)\n",
      " |-- Search_Term: string (nullable = true)\n",
      " |-- rank: integer (nullable = true)\n",
      " |-- shallow_url: string (nullable = true)\n",
      " |-- DetailURL: string (nullable = true)\n",
      "\n"
     ]
    }
   ],
   "source": [
    "df.printSchema()"
   ]
  },
  {
   "cell_type": "code",
   "execution_count": 29,
   "id": "e5de4f25-1082-40fb-b138-c20145f8ae5f",
   "metadata": {
    "collapsed": true,
    "jupyter": {
     "outputs_hidden": true
    },
    "tags": []
   },
   "outputs": [
    {
     "name": "stdout",
     "output_type": "stream",
     "text": [
      "+------------+--------------------+-----------+----+--------------------+--------------------+\n",
      "|Product_Code|        Product_Name|Search_Term|rank|         shallow_url|           DetailURL|\n",
      "+------------+--------------------+-----------+----+--------------------+--------------------+\n",
      "|       24212|Vitamin A-Z (120 ...|  Vitamin-D|   1|https://www.bodyl...|https://www.bodyl...|\n",
      "|       26332|Vitamin D Tabs (8...|  Vitamin-D|   2|https://www.bodyl...|https://www.bodyl...|\n",
      "|        7862|Vitamin D3 (180 K...|  Vitamin-D|   3|https://www.bodyl...|https://www.bodyl...|\n",
      "|       27238|Vitamin B12 (120 ...|  Vitamin-D|   4|https://www.bodyl...|https://www.bodyl...|\n",
      "|       24208|Vitamin D3 + K2 (...|  Vitamin-D|   5|https://www.bodyl...|https://www.bodyl...|\n",
      "|       26041|Vitamin D3 + K2 (...|  Vitamin-D|   6|https://www.bodyl...|https://www.bodyl...|\n",
      "|       24217|Vitamin D3 + K2 (...|  Vitamin-D|   7|https://www.bodyl...|https://www.bodyl...|\n",
      "|       26627|Vitamin D3-K2 Tro...|  Vitamin-D|   8|https://www.bodyl...|https://www.bodyl...|\n",
      "|       18827|Vitamin D3 5000 I...|  Vitamin-D|   9|https://www.bodyl...|https://www.bodyl...|\n",
      "|       18604|Vitamin D3 Tropfe...|  Vitamin-D|  10|https://www.bodyl...|https://www.bodyl...|\n",
      "|       12019|Vitamin D3 Forte ...|  Vitamin-D|  11|https://www.bodyl...|https://www.bodyl...|\n",
      "|       15185|CLX Band 2m, schw...|      Bände|   1|https://www.bodyl...|https://www.bodyl...|\n",
      "|       18826|Vitamin D3 2000 I...|  Vitamin-D|  12|https://www.bodyl...|https://www.bodyl...|\n",
      "|       26740|D3 - Vitamin D3 2...|  Vitamin-D|  13|https://www.bodyl...|https://www.bodyl...|\n",
      "|       15192|CLX Band 2m, mitt...|      Bände|   2|https://www.bodyl...|https://www.bodyl...|\n",
      "|       27255|Vitamin D3 + K2 K...|  Vitamin-D|  14|https://www.bodyl...|https://www.bodyl...|\n",
      "|       17422|CLX Band 2m, supe...|      Bände|   3|https://www.bodyl...|https://www.bodyl...|\n",
      "|       17424|CLX Band 2m, extr...|      Bände|   4|https://www.bodyl...|https://www.bodyl...|\n",
      "|       27235|Vitamin D3 Tropfe...|  Vitamin-D|  15|https://www.bodyl...|https://www.bodyl...|\n",
      "|       26762|Gold-Vit D MAX 20...|  Vitamin-D|  16|https://www.bodyl...|https://www.bodyl...|\n",
      "+------------+--------------------+-----------+----+--------------------+--------------------+\n",
      "only showing top 20 rows\n",
      "\n"
     ]
    }
   ],
   "source": [
    "df.show()"
   ]
  },
  {
   "cell_type": "code",
   "execution_count": 30,
   "id": "6562f86b-7d5f-44e1-bdc3-9be5eb694f02",
   "metadata": {},
   "outputs": [
    {
     "data": {
      "text/plain": [
       "pyspark.sql.dataframe.DataFrame"
      ]
     },
     "execution_count": 30,
     "metadata": {},
     "output_type": "execute_result"
    }
   ],
   "source": [
    "type(df)"
   ]
  },
  {
   "cell_type": "code",
   "execution_count": 29,
   "id": "4815bd81-6770-47f3-a87c-8363fb04b28a",
   "metadata": {
    "tags": []
   },
   "outputs": [],
   "source": [
    "# selecting individual columns\n",
    "df_filtered = df.select([\"rank\",\"Search_Term\"])\n",
    "list_a = df_filtered.select(\"Search_Term\").distinct().collect()"
   ]
  },
  {
   "cell_type": "code",
   "execution_count": 32,
   "id": "e44ca41a-874c-41f5-a068-b61c47a69565",
   "metadata": {},
   "outputs": [
    {
     "ename": "AnalysisException",
     "evalue": "cannot resolve '`URL`' given input columns: [DetailURL, Product_Code, Product_Name, Search_Term, rank, shallow_url];\n'Project ['URL, Product_Name#2278]\n+- Relation[Product_Code#2277,Product_Name#2278,Search_Term#2279,rank#2280,shallow_url#2281,DetailURL#2282] csv\n",
     "output_type": "error",
     "traceback": [
      "\u001b[0;31m---------------------------------------------------------------------------\u001b[0m",
      "\u001b[0;31mAnalysisException\u001b[0m                         Traceback (most recent call last)",
      "\u001b[0;32m<ipython-input-32-bd4bcc7b47e1>\u001b[0m in \u001b[0;36m<module>\u001b[0;34m\u001b[0m\n\u001b[0;32m----> 1\u001b[0;31m \u001b[0mdf\u001b[0m\u001b[0;34m.\u001b[0m\u001b[0mselect\u001b[0m\u001b[0;34m(\u001b[0m\u001b[0;34m[\u001b[0m\u001b[0;34m\"URL\"\u001b[0m\u001b[0;34m,\u001b[0m\u001b[0;34m\"Product_Name\"\u001b[0m\u001b[0;34m]\u001b[0m\u001b[0;34m)\u001b[0m\u001b[0;34m\u001b[0m\u001b[0;34m\u001b[0m\u001b[0m\n\u001b[0m",
      "\u001b[0;32m/dsvm/tools/spark/current/python/pyspark/sql/dataframe.py\u001b[0m in \u001b[0;36mselect\u001b[0;34m(self, *cols)\u001b[0m\n\u001b[1;32m   1667\u001b[0m         \u001b[0;34m[\u001b[0m\u001b[0mRow\u001b[0m\u001b[0;34m(\u001b[0m\u001b[0mname\u001b[0m\u001b[0;34m=\u001b[0m\u001b[0;34m'Alice'\u001b[0m\u001b[0;34m,\u001b[0m \u001b[0mage\u001b[0m\u001b[0;34m=\u001b[0m\u001b[0;36m12\u001b[0m\u001b[0;34m)\u001b[0m\u001b[0;34m,\u001b[0m \u001b[0mRow\u001b[0m\u001b[0;34m(\u001b[0m\u001b[0mname\u001b[0m\u001b[0;34m=\u001b[0m\u001b[0;34m'Bob'\u001b[0m\u001b[0;34m,\u001b[0m \u001b[0mage\u001b[0m\u001b[0;34m=\u001b[0m\u001b[0;36m15\u001b[0m\u001b[0;34m)\u001b[0m\u001b[0;34m]\u001b[0m\u001b[0;34m\u001b[0m\u001b[0;34m\u001b[0m\u001b[0m\n\u001b[1;32m   1668\u001b[0m         \"\"\"\n\u001b[0;32m-> 1669\u001b[0;31m         \u001b[0mjdf\u001b[0m \u001b[0;34m=\u001b[0m \u001b[0mself\u001b[0m\u001b[0;34m.\u001b[0m\u001b[0m_jdf\u001b[0m\u001b[0;34m.\u001b[0m\u001b[0mselect\u001b[0m\u001b[0;34m(\u001b[0m\u001b[0mself\u001b[0m\u001b[0;34m.\u001b[0m\u001b[0m_jcols\u001b[0m\u001b[0;34m(\u001b[0m\u001b[0;34m*\u001b[0m\u001b[0mcols\u001b[0m\u001b[0;34m)\u001b[0m\u001b[0;34m)\u001b[0m\u001b[0;34m\u001b[0m\u001b[0;34m\u001b[0m\u001b[0m\n\u001b[0m\u001b[1;32m   1670\u001b[0m         \u001b[0;32mreturn\u001b[0m \u001b[0mDataFrame\u001b[0m\u001b[0;34m(\u001b[0m\u001b[0mjdf\u001b[0m\u001b[0;34m,\u001b[0m \u001b[0mself\u001b[0m\u001b[0;34m.\u001b[0m\u001b[0msql_ctx\u001b[0m\u001b[0;34m)\u001b[0m\u001b[0;34m\u001b[0m\u001b[0;34m\u001b[0m\u001b[0m\n\u001b[1;32m   1671\u001b[0m \u001b[0;34m\u001b[0m\u001b[0m\n",
      "\u001b[0;32m/dsvm/tools/spark/current/python/lib/py4j-0.10.9-src.zip/py4j/java_gateway.py\u001b[0m in \u001b[0;36m__call__\u001b[0;34m(self, *args)\u001b[0m\n\u001b[1;32m   1302\u001b[0m \u001b[0;34m\u001b[0m\u001b[0m\n\u001b[1;32m   1303\u001b[0m         \u001b[0manswer\u001b[0m \u001b[0;34m=\u001b[0m \u001b[0mself\u001b[0m\u001b[0;34m.\u001b[0m\u001b[0mgateway_client\u001b[0m\u001b[0;34m.\u001b[0m\u001b[0msend_command\u001b[0m\u001b[0;34m(\u001b[0m\u001b[0mcommand\u001b[0m\u001b[0;34m)\u001b[0m\u001b[0;34m\u001b[0m\u001b[0;34m\u001b[0m\u001b[0m\n\u001b[0;32m-> 1304\u001b[0;31m         return_value = get_return_value(\n\u001b[0m\u001b[1;32m   1305\u001b[0m             answer, self.gateway_client, self.target_id, self.name)\n\u001b[1;32m   1306\u001b[0m \u001b[0;34m\u001b[0m\u001b[0m\n",
      "\u001b[0;32m/dsvm/tools/spark/current/python/pyspark/sql/utils.py\u001b[0m in \u001b[0;36mdeco\u001b[0;34m(*a, **kw)\u001b[0m\n\u001b[1;32m    115\u001b[0m                 \u001b[0;31m# Hide where the exception came from that shows a non-Pythonic\u001b[0m\u001b[0;34m\u001b[0m\u001b[0;34m\u001b[0m\u001b[0;34m\u001b[0m\u001b[0m\n\u001b[1;32m    116\u001b[0m                 \u001b[0;31m# JVM exception message.\u001b[0m\u001b[0;34m\u001b[0m\u001b[0;34m\u001b[0m\u001b[0;34m\u001b[0m\u001b[0m\n\u001b[0;32m--> 117\u001b[0;31m                 \u001b[0;32mraise\u001b[0m \u001b[0mconverted\u001b[0m \u001b[0;32mfrom\u001b[0m \u001b[0;32mNone\u001b[0m\u001b[0;34m\u001b[0m\u001b[0;34m\u001b[0m\u001b[0m\n\u001b[0m\u001b[1;32m    118\u001b[0m             \u001b[0;32melse\u001b[0m\u001b[0;34m:\u001b[0m\u001b[0;34m\u001b[0m\u001b[0;34m\u001b[0m\u001b[0m\n\u001b[1;32m    119\u001b[0m                 \u001b[0;32mraise\u001b[0m\u001b[0;34m\u001b[0m\u001b[0;34m\u001b[0m\u001b[0m\n",
      "\u001b[0;31mAnalysisException\u001b[0m: cannot resolve '`URL`' given input columns: [DetailURL, Product_Code, Product_Name, Search_Term, rank, shallow_url];\n'Project ['URL, Product_Name#2278]\n+- Relation[Product_Code#2277,Product_Name#2278,Search_Term#2279,rank#2280,shallow_url#2281,DetailURL#2282] csv\n"
     ]
    }
   ],
   "source": [
    "df.select([\"URL\",\"Product_Name\"])"
   ]
  },
  {
   "cell_type": "code",
   "execution_count": 18,
   "id": "fc11dd10-0dd6-458c-802f-81f9a7feb4b5",
   "metadata": {},
   "outputs": [
    {
     "data": {
      "text/plain": [
       "[('URL', 'string'),\n",
       " ('Product_Name', 'string'),\n",
       " ('Sku', 'string'),\n",
       " ('Availability', 'int'),\n",
       " ('Price', 'double'),\n",
       " ('Rating', 'double'),\n",
       " ('Review', 'int'),\n",
       " ('Image_URL', 'string'),\n",
       " ('Old_price', 'string')]"
      ]
     },
     "execution_count": 18,
     "metadata": {},
     "output_type": "execute_result"
    }
   ],
   "source": [
    "df.dtypes"
   ]
  },
  {
   "cell_type": "code",
   "execution_count": 24,
   "id": "43ce82b6-7f2b-485c-bf44-7398183b05b2",
   "metadata": {
    "collapsed": true,
    "jupyter": {
     "outputs_hidden": true
    },
    "tags": []
   },
   "outputs": [
    {
     "name": "stdout",
     "output_type": "stream",
     "text": [
      "+-------+--------------------+--------------------+--------------------+------------+-----------------+------------------+------------------+--------------------+---------+\n",
      "|summary|                 URL|        Product_Name|                 Sku|Availability|            Price|            Rating|            Review|           Image_URL|Old_price|\n",
      "+-------+--------------------+--------------------+--------------------+------------+-----------------+------------------+------------------+--------------------+---------+\n",
      "|  count|                  14|                  14|                  14|          14|               14|                14|                14|                  14|        4|\n",
      "|   mean|                null|                null|1.420407358403333...|         1.0|41.56285714285714| 3.692857142857143|35.785714285714285|                null|     null|\n",
      "| stddev|                null|                null|3.370405653534945E11|         0.0| 19.1479380004827|2.0216003887682974| 58.92521801980302|                null|     null|\n",
      "|    min|https://www.bodyl...|100% Casein Gold ...|                  05|           1|            22.99|               0.0|                 0|https://www.bodyl...|    24,99|\n",
      "|    max|https://www.bodyl...|Whipped Protein B...|       SN20210518001|           1|            69.99|               5.0|               144|https://www.bodyl...|    79,99|\n",
      "+-------+--------------------+--------------------+--------------------+------------+-----------------+------------------+------------------+--------------------+---------+\n",
      "\n"
     ]
    }
   ],
   "source": [
    "df.describe().show()"
   ]
  },
  {
   "cell_type": "code",
   "execution_count": 42,
   "id": "fc5c239d-8e1c-46a5-955f-7fd53a87aa5c",
   "metadata": {
    "collapsed": true,
    "jupyter": {
     "outputs_hidden": true
    },
    "tags": []
   },
   "outputs": [
    {
     "data": {
      "text/plain": [
       "[Row(Search_Term='Riegel mit hohem Proteingehalt'),\n",
       " Row(Search_Term='Gewichtsgewinner'),\n",
       " Row(Search_Term='Kreatin'),\n",
       " Row(Search_Term='Riegel+mit+hohem+Proteingehalt'),\n",
       " Row(Search_Term='Massengewinner'),\n",
       " Row(Search_Term='Protein+Pulver'),\n",
       " Row(Search_Term='Gewinner'),\n",
       " Row(Search_Term='Protein-Bodybuilding'),\n",
       " Row(Search_Term='isoliertes+Eiweiß'),\n",
       " Row(Search_Term='Proteinriegel'),\n",
       " Row(Search_Term='vor dem Training'),\n",
       " Row(Search_Term='Aminos&auml;uren'),\n",
       " Row(Search_Term='Aminosäuren'),\n",
       " Row(Search_Term='Aminos'),\n",
       " Row(Search_Term='Riegel'),\n",
       " Row(Search_Term='Eiwei'),\n",
       " Row(Search_Term='Bände'),\n",
       " Row(Search_Term='zus&auml;tzliches Eiwei&szlig;'),\n",
       " Row(Search_Term='vor+dem+Training'),\n",
       " Row(Search_Term='Eiwei&szlig;shaker'),\n",
       " Row(Search_Term='Proteine'),\n",
       " Row(Search_Term='isoliertes+Molkenprotein'),\n",
       " Row(Search_Term='isoliertes Molkenprotein'),\n",
       " Row(Search_Term='isoliertes Eiwei&szlig;'),\n",
       " Row(Search_Term='essentielle Aminos&auml;uren'),\n",
       " Row(Search_Term='Eiweißshaker'),\n",
       " Row(Search_Term='Protein'),\n",
       " Row(Search_Term='Protein Pulver'),\n",
       " Row(Search_Term='Molkenprotein'),\n",
       " Row(Search_Term='Vitamin-D'),\n",
       " Row(Search_Term='Muskelmasse'),\n",
       " Row(Search_Term='essentielle'),\n",
       " Row(Search_Term='zusätzliches+Eiweiß'),\n",
       " Row(Search_Term='essentielle+Aminosäuren'),\n",
       " Row(Search_Term='Bodybuilding')]"
      ]
     },
     "execution_count": 42,
     "metadata": {},
     "output_type": "execute_result"
    }
   ],
   "source": [
    "# check rank order (1,2,3,4.. n) for each search term\n",
    "df.select(\"Search_Term\").distinct().collect()"
   ]
  },
  {
   "cell_type": "code",
   "execution_count": 56,
   "id": "ac1c9cd0-1dfb-48ba-9260-674106c0d639",
   "metadata": {
    "tags": []
   },
   "outputs": [
    {
     "name": "stdout",
     "output_type": "stream",
     "text": [
      "Riegel mit hohem Proteingehalt    :    Not ordered\n",
      "Gewichtsgewinner    :    ordered\n",
      "Kreatin    :    ordered\n",
      "Riegel+mit+hohem+Proteingehalt    :    ordered\n",
      "Massengewinner    :    ordered\n",
      "Protein+Pulver    :    ordered\n",
      "Gewinner    :    ordered\n",
      "Protein-Bodybuilding    :    ordered\n",
      "isoliertes+Eiweiß    :    ordered\n",
      "Proteinriegel    :    ordered\n",
      "vor dem Training    :    Not ordered\n",
      "Aminos&auml;uren    :    Not ordered\n",
      "Aminosäuren    :    ordered\n",
      "Aminos    :    Not ordered\n",
      "Riegel    :    Not ordered\n",
      "Eiwei    :    Not ordered\n",
      "Bände    :    ordered\n",
      "zus&auml;tzliches Eiwei&szlig;    :    Not ordered\n",
      "vor+dem+Training    :    ordered\n",
      "Eiwei&szlig;shaker    :    Not ordered\n",
      "Proteine    :    ordered\n",
      "isoliertes+Molkenprotein    :    ordered\n",
      "isoliertes Molkenprotein    :    Not ordered\n",
      "isoliertes Eiwei&szlig;    :    Not ordered\n",
      "essentielle Aminos&auml;uren    :    Not ordered\n",
      "Eiweißshaker    :    ordered\n",
      "Protein    :    Not ordered\n",
      "Protein Pulver    :    Not ordered\n",
      "Molkenprotein    :    ordered\n",
      "Vitamin-D    :    ordered\n",
      "Muskelmasse    :    ordered\n",
      "essentielle    :    Not ordered\n",
      "zusätzliches+Eiweiß    :    ordered\n",
      "essentielle+Aminosäuren    :    ordered\n",
      "Bodybuilding    :    ordered\n"
     ]
    }
   ],
   "source": [
    "# rank information incre\n",
    "df_filtered = df.select([\"rank\",\"Search_Term\"])\n",
    "for term in list_a:\n",
    "    term = term[\"Search_Term\"]\n",
    "    infered_sum = int(df_filtered.where(df_filtered[\"Search_Term\"] == term).select(\"rank\").groupBy().sum().collect()[0][0])\n",
    "    n = n = int(df_filtered.where(df_filtered[\"Search_Term\"] == term).count())\n",
    "    GT_sum = (n)*(n+1)/2\n",
    "    if infered_sum == int(GT_sum):\n",
    "        print(f\"{term}    :    ordered\")\n",
    "    else:\n",
    "        print(f\"{term}    :    Not ordered\") "
   ]
  },
  {
   "cell_type": "code",
   "execution_count": 77,
   "id": "0d30769c-8d99-4010-b594-32fe16c13190",
   "metadata": {
    "tags": []
   },
   "outputs": [
    {
     "data": {
      "text/plain": [
       "1728"
      ]
     },
     "execution_count": 77,
     "metadata": {},
     "output_type": "execute_result"
    }
   ],
   "source": [
    "#df_filtered.where(df_filtered[\"Search_Term\"] == \"Vitamin-D\").show()\n",
    "df_filtered.where(df_filtered[\"Search_Term\"] == \"Vitamin-D\").count()"
   ]
  },
  {
   "cell_type": "code",
   "execution_count": 131,
   "id": "8cd64c56-d1a5-45f3-ac3f-34d186cbdd24",
   "metadata": {
    "tags": []
   },
   "outputs": [
    {
     "data": {
      "text/plain": [
       "Row(rank=1)"
      ]
     },
     "execution_count": 131,
     "metadata": {},
     "output_type": "execute_result"
    }
   ],
   "source": [
    "df_filtered.where(df_filtered[\"Search_Term\"] == \"Vitamin-D\").select(\"rank\").collect()[0]"
   ]
  },
  {
   "cell_type": "code",
   "execution_count": 154,
   "id": "bcca5e45-c860-4fe9-92a4-cb9df7f7e290",
   "metadata": {},
   "outputs": [
    {
     "data": {
      "text/plain": [
       "1493856"
      ]
     },
     "execution_count": 154,
     "metadata": {},
     "output_type": "execute_result"
    }
   ],
   "source": [
    "df_filtered.where(df_filtered[\"Search_Term\"] == \"Vitamin-D\").select(\"rank\").groupby().sum().collect()[0][0]"
   ]
  },
  {
   "cell_type": "code",
   "execution_count": 138,
   "id": "e822c4bc-8fa2-4cc1-9eec-a3e1314cb651",
   "metadata": {},
   "outputs": [
    {
     "data": {
      "text/plain": [
       "1728"
      ]
     },
     "execution_count": 138,
     "metadata": {},
     "output_type": "execute_result"
    }
   ],
   "source": [
    "df_filtered.where(df_filtered[\"Search_Term\"] == \"Vitamin-D\").select(\"rank\").count()"
   ]
  },
  {
   "cell_type": "code",
   "execution_count": 104,
   "id": "d7fd9c13-dc14-42b4-8b84-b7e854e756ec",
   "metadata": {},
   "outputs": [
    {
     "data": {
      "text/plain": [
       "[]"
      ]
     },
     "execution_count": 104,
     "metadata": {},
     "output_type": "execute_result"
    }
   ],
   "source": [
    "[int(s) for s in \"Row(sum(rank)=2498730)\".split() if s.isdigit()]"
   ]
  },
  {
   "cell_type": "code",
   "execution_count": 136,
   "id": "f74f369d-8b28-4c47-aee8-c3451dbda81e",
   "metadata": {},
   "outputs": [
    {
     "data": {
      "text/plain": [
       "(int, 57136, int)"
      ]
     },
     "execution_count": 136,
     "metadata": {},
     "output_type": "execute_result"
    }
   ],
   "source": [
    "type(infered_sum),n, type(n)"
   ]
  },
  {
   "cell_type": "code",
   "execution_count": 145,
   "id": "530da8a9-238a-4487-ba4c-e92bada70078",
   "metadata": {},
   "outputs": [
    {
     "ename": "TypeError",
     "evalue": "list indices must be integers or slices, not str",
     "output_type": "error",
     "traceback": [
      "\u001b[0;31m---------------------------------------------------------------------------\u001b[0m",
      "\u001b[0;31mTypeError\u001b[0m                                 Traceback (most recent call last)",
      "\u001b[0;32m<ipython-input-145-e214c5319cba>\u001b[0m in \u001b[0;36m<module>\u001b[0;34m\u001b[0m\n\u001b[0;32m----> 1\u001b[0;31m \u001b[0;34m(\u001b[0m\u001b[0;36m1728\u001b[0m \u001b[0;34m*\u001b[0m \u001b[0;36m1729\u001b[0m\u001b[0;34m)\u001b[0m\u001b[0;34m/\u001b[0m\u001b[0;36m2\u001b[0m\u001b[0;34m,\u001b[0m \u001b[0mlist_a\u001b[0m\u001b[0;34m[\u001b[0m\u001b[0;34m\"Vitamin-D\"\u001b[0m\u001b[0;34m]\u001b[0m\u001b[0;34m\u001b[0m\u001b[0;34m\u001b[0m\u001b[0m\n\u001b[0m",
      "\u001b[0;31mTypeError\u001b[0m: list indices must be integers or slices, not str"
     ]
    }
   ],
   "source": [
    "(1728 * 1729)/2, list_a[\"Vitamin-D\"]"
   ]
  },
  {
   "cell_type": "code",
   "execution_count": 157,
   "id": "2af8d770-ce6e-4531-9943-2d83467c10d0",
   "metadata": {},
   "outputs": [
    {
     "name": "stdout",
     "output_type": "stream",
     "text": [
      "1493856 1493856.0 1728\n",
      "Vitamin-D    :    ordered\n"
     ]
    }
   ],
   "source": [
    "term = \"Vitamin-D\"\n",
    "\n",
    "infered_sum = int(df_filtered.where(df_filtered[\"Search_Term\"] == \"Vitamin-D\").select(\"rank\").groupBy().sum().collect()[0][0])\n",
    "n = int(df_filtered.where(df_filtered[\"Search_Term\"] == \"Vitamin-D\").count())\n",
    "GT_sum = (n)*(n+1)/2\n",
    "print(infered_sum,GT_sum,n)\n",
    "if infered_sum == int(GT_sum):\n",
    "    print(f\"{term}    :    ordered\")\n",
    "else:\n",
    "    print(f\"{term}    :    Not ordered\") "
   ]
  },
  {
   "cell_type": "code",
   "execution_count": 3,
   "id": "a7e9f94b-1426-42e1-be51-1fa8ab1e4d88",
   "metadata": {},
   "outputs": [],
   "source": [
    "df = spark.read.option('header',\"true\").csv(\"bodylab_detail.csv\", inferSchema = True)"
   ]
  },
  {
   "cell_type": "code",
   "execution_count": 7,
   "id": "cc0028af-3a3d-4132-b5d2-081c2c998c60",
   "metadata": {},
   "outputs": [
    {
     "data": {
      "text/plain": [
       "14"
      ]
     },
     "execution_count": 7,
     "metadata": {},
     "output_type": "execute_result"
    }
   ],
   "source": [
    "df.count()"
   ]
  },
  {
   "cell_type": "code",
   "execution_count": 26,
   "id": "28ad631f-539d-403f-bb56-3d5e4e0934db",
   "metadata": {},
   "outputs": [
    {
     "name": "stdout",
     "output_type": "stream",
     "text": [
      "+---+------------+---+------------+-----+------+------+---------+---------+\n",
      "|URL|Product_Name|Sku|Availability|Price|Rating|Review|Image_URL|Old_price|\n",
      "+---+------------+---+------------+-----+------+------+---------+---------+\n",
      "|  0|           0|  0|           0|    0|     0|     0|        0|       10|\n",
      "+---+------------+---+------------+-----+------+------+---------+---------+\n",
      "\n"
     ]
    }
   ],
   "source": [
    "from pyspark.sql.functions import col,isnan,when,count\n",
    "columns = list()\n",
    "for cols in df.dtypes:\n",
    "    columns.append(cols[0])\n",
    "    \n",
    "df.select([count(when(isnan(c) | col(c).isNull(), c)).alias(c) for c in columns]\n",
    "   ).show()"
   ]
  },
  {
   "cell_type": "code",
   "execution_count": 15,
   "id": "5941784a-6298-45c2-9e63-f1427786baff",
   "metadata": {},
   "outputs": [
    {
     "data": {
      "text/plain": [
       "['URL',\n",
       " 'Product_Name',\n",
       " 'Sku',\n",
       " 'Availability',\n",
       " 'Price',\n",
       " 'Rating',\n",
       " 'Review',\n",
       " 'Image_URL',\n",
       " 'Old_price']"
      ]
     },
     "execution_count": 15,
     "metadata": {},
     "output_type": "execute_result"
    }
   ],
   "source": [
    "columns = list()\n",
    "for col in df.dtypes:\n",
    "    columns.append(col[0])\n",
    "columns"
   ]
  },
  {
   "cell_type": "code",
   "execution_count": 25,
   "id": "40b476ef-ba5f-452e-8194-5b07d18b23d8",
   "metadata": {},
   "outputs": [
    {
     "ename": "TypeError",
     "evalue": "'Column' object is not callable",
     "output_type": "error",
     "traceback": [
      "\u001b[0;31m---------------------------------------------------------------------------\u001b[0m",
      "\u001b[0;31mTypeError\u001b[0m                                 Traceback (most recent call last)",
      "\u001b[0;32m<ipython-input-25-8c67fc98d641>\u001b[0m in \u001b[0;36m<module>\u001b[0;34m\u001b[0m\n\u001b[0;32m----> 1\u001b[0;31m \u001b[0misnan\u001b[0m\u001b[0;34m(\u001b[0m\u001b[0;34m\"Old_price\"\u001b[0m\u001b[0;34m)\u001b[0m\u001b[0;34m.\u001b[0m\u001b[0mshow\u001b[0m\u001b[0;34m(\u001b[0m\u001b[0;34m)\u001b[0m\u001b[0;34m\u001b[0m\u001b[0;34m\u001b[0m\u001b[0m\n\u001b[0m",
      "\u001b[0;31mTypeError\u001b[0m: 'Column' object is not callable"
     ]
    }
   ],
   "source": [
    "# vitamin D --> 1,2,3,4,5  distinct == len of vitamin D col --> ordered\n",
    "# vitamin D --> 1,3,4,5,6 dustinct == len of vitamin D col --> but unordered"
   ]
  },
  {
   "cell_type": "code",
   "execution_count": 34,
   "id": "ff041a25-87db-41ba-aa67-fad078131229",
   "metadata": {},
   "outputs": [
    {
     "name": "stdout",
     "output_type": "stream",
     "text": [
      " Riegel mit hohem Proteingehalt  --- 48 ---- 48\n",
      " Gewichtsgewinner  --- 32 ---- 32\n",
      " Kreatin  --- 5197 ---- 5197\n",
      " Riegel+mit+hohem+Proteingehalt  --- 48 ---- 48\n",
      " Massengewinner  --- 27 ---- 27\n",
      " Protein+Pulver  --- 48 ---- 48\n",
      " Gewinner  --- 9 ---- 9\n",
      " Protein-Bodybuilding  --- 3120 ---- 3120\n",
      " isoliertes+Eiweiß  --- 48 ---- 48\n",
      " Proteinriegel  --- 1416 ---- 1416\n",
      " vor dem Training  --- 6 ---- 6\n",
      " Aminos&auml;uren  --- 48 ---- 48\n",
      " Aminosäuren  --- 48 ---- 48\n",
      " Aminos  --- 2787 ---- 2787\n",
      " Riegel  --- 1882 ---- 1882\n",
      " Eiwei  --- 4277 ---- 4277\n",
      " Bände  --- 12 ---- 12\n",
      " zus&auml;tzliches Eiwei&szlig;  --- 15 ---- 15\n",
      " vor+dem+Training  --- 48 ---- 48\n",
      " Eiwei&szlig;shaker  --- 43 ---- 43\n",
      " Proteine  --- 3128 ---- 3128\n",
      " isoliertes+Molkenprotein  --- 48 ---- 48\n",
      " isoliertes Molkenprotein  --- 40 ---- 40\n",
      " isoliertes Eiwei&szlig;  --- 40 ---- 40\n",
      " essentielle Aminos&auml;uren  --- 48 ---- 48\n",
      " Eiweißshaker  --- 48 ---- 48\n",
      " Protein  --- 11564 ---- 6038\n",
      " Protein Pulver  --- 48 ---- 48\n",
      " Molkenprotein  --- 3333 ---- 3333\n",
      " Vitamin-D  --- 1728 ---- 1728\n",
      " Muskelmasse  --- 8199 ---- 8199\n",
      " essentielle  --- 7422 ---- 7422\n",
      " zusätzliches+Eiweiß  --- 48 ---- 48\n",
      " essentielle+Aminosäuren  --- 48 ---- 48\n",
      " Bodybuilding  --- 2235 ---- 2235\n"
     ]
    }
   ],
   "source": [
    "for term in list_a:\n",
    "    term = term[\"Search_Term\"]\n",
    "    length = df_filtered.where(df_filtered[\"Search_Term\"] == term).count()\n",
    "    rank_count = df_filtered.where(df_filtered[\"Search_Term\"] == term).select(\"rank\").distinct().count()\n",
    "    print(f\" {term}  --- {length} ---- {rank_count}\")"
   ]
  },
  {
   "cell_type": "code",
   "execution_count": 36,
   "id": "3e4e5ca5-2512-42f2-bd22-73c2b55b96ed",
   "metadata": {},
   "outputs": [
    {
     "name": "stdout",
     "output_type": "stream",
     "text": [
      "3480 1176.0 48\n",
      "Riegel mit hohem Proteingehalt    :    Not ordered\n"
     ]
    }
   ],
   "source": [
    "term = \"Riegel mit hohem Proteingehalt\"\n",
    "\n",
    "infered_sum = int(df_filtered.where(df_filtered[\"Search_Term\"] == term).select(\"rank\").groupBy().sum().collect()[0][0])\n",
    "n = int(df_filtered.where(df_filtered[\"Search_Term\"] == term).count())\n",
    "GT_sum = (n)*(n+1)/2\n",
    "print(infered_sum,GT_sum,n)\n",
    "if infered_sum == int(GT_sum):\n",
    "    print(f\"{term}    :    ordered\")\n",
    "else:\n",
    "    print(f\"{term}    :    Not ordered\") "
   ]
  },
  {
   "cell_type": "code",
   "execution_count": 39,
   "id": "fb3ade23-d2f4-4ccf-8b3f-98ce1db8a49e",
   "metadata": {},
   "outputs": [
    {
     "name": "stdout",
     "output_type": "stream",
     "text": [
      "+----+\n",
      "|rank|\n",
      "+----+\n",
      "|  49|\n",
      "|  50|\n",
      "|  51|\n",
      "|  52|\n",
      "|  53|\n",
      "|  54|\n",
      "|  55|\n",
      "|  56|\n",
      "|  57|\n",
      "|  58|\n",
      "|  59|\n",
      "|  60|\n",
      "|  61|\n",
      "|  62|\n",
      "|  63|\n",
      "|  64|\n",
      "|  65|\n",
      "|  66|\n",
      "|  67|\n",
      "|  68|\n",
      "+----+\n",
      "only showing top 20 rows\n",
      "\n"
     ]
    }
   ],
   "source": [
    "df_filtered.where(df_filtered[\"Search_Term\"] == term).select(\"rank\").show()"
   ]
  },
  {
   "cell_type": "code",
   "execution_count": 45,
   "id": "5723c493-d71f-4147-8adf-d32ac3693a71",
   "metadata": {},
   "outputs": [],
   "source": [
    "# cols, file_names as variable\n",
    "# input json config file, location for csv files, url's --> output json with results \n",
    "\n",
    "\n",
    "from pyspark.sql.functions import col,isnan,when,count\n",
    "\n",
    "def input_csv_file(file_name:str):\n",
    "    df = spark.read.option('header',\"true\").csv(file_name, inferSchema = True)\n",
    "    return df\n",
    "\n",
    "\n",
    "def input_txt_file(file:str):\n",
    "    input_list = spark.read.text(file).collect()\n",
    "    #file2 = spark.read.text(detail_file).collect()\n",
    "    \n",
    "    return input_list\n",
    "\n",
    "\n",
    "def missing_attribute_test(df:str, columns:list):\n",
    "    \n",
    "    #columns = [\"Product_Code\",\"Product_Name\", \"Search_Term\", \"rank\",\"shallow_url\",\"DetailURL\"]\n",
    "    \n",
    "    return {col:(\"Missing\" if df.filter(df[col].isNull()).count()>0 else \"No Missing\") for col in columns}\n",
    "\n",
    "\n",
    "# def missing_attribute_test_detail(df:str, columns:list):\n",
    "    \n",
    "#     #columns = [\"URL\",\"Product_Name\", \"Sku\", \"Availability\",\"Price\",\"Rating\",\"Review\",\"ImageURL\",\"Old_price\"]\n",
    "    \n",
    "#     return {col:df.filter(df[col].isNull()).count() for col in columns}\n",
    "\n",
    "    \n",
    "\n",
    "def non_empty_results_for_each_search_term_test(df:str):\n",
    "    \n",
    "    result = dict()\n",
    "    term_list = df.select(\"Search_Term\").distinct().collect()\n",
    "    for col in term_list:\n",
    "        col = col[\"Search_Term\"]\n",
    "        if int(df.where(df[\"Search_Term\"] == col).count()) == 0:\n",
    "            result[col] = \"Empty\"\n",
    "        else:\n",
    "            result[col] = \"Non-Empty\"\n",
    "\n",
    "    return result\n",
    "\n",
    "\n",
    "def search_terms_not_in_csv_test(df:str, search_list:list):\n",
    "# file contains the search terms\n",
    "# need to match the search terms in the file with the search terms in the csv\n",
    "    result = dict()\n",
    "    for search_term in search_list:\n",
    "        search_term_from_list = search_term[\"value\"]\n",
    "        \n",
    "        # find this search term in csv\n",
    "# df_filtered.where(df_filtered[\"Search_Term\"] == term)\n",
    "\n",
    "        if df.where(df[\"Search_Term\"] == search_term_from_list):\n",
    "            result[search_term_from_list] = \"Present\"\n",
    "        else:\n",
    "            result[search_term_from_list] = \"Absent\"\n",
    "    \n",
    "    return result\n",
    "\n",
    "# are all the products listed included in the scrape?\n",
    "def products_not_listed_in_scrape_test(df:str, url_list:list):\n",
    "    \n",
    "    result = dict()\n",
    "    for url in url_list:\n",
    "        url_from_list = url[\"value\"]\n",
    "        \n",
    "        if df.where(df[\"URL\"] == url_from_list):\n",
    "            result[url_from_list] = \"Present\"\n",
    "        else:\n",
    "            result[url_from_list] = \"Absent\"\n",
    "            \n",
    "    return result\n",
    "\n",
    "def rank_ordering_test(df:str):\n",
    "    \n",
    "    result = dict()\n",
    "    term_list = df.select(\"Search_Term\").distinct().collect()\n",
    "    for term in term_list:\n",
    "        term = term[\"Search_Term\"]\n",
    "        infered_sum = int(df.where(df[\"Search_Term\"] == term).select(\"rank\").groupBy().sum().collect()[0][0])\n",
    "        n = int(df.where(df[\"Search_Term\"] == term).count())\n",
    "        GT_sum = (n)*(n+1)/2\n",
    "        \n",
    "        if infered_sum == int(GT_sum):\n",
    "            result[term] = \"ordered\" \n",
    "        else:\n",
    "            result[term] = \"un-ordered\" \n",
    "    \n",
    "    return result\n"
   ]
  },
  {
   "cell_type": "code",
   "execution_count": 26,
   "id": "8029a62c-7a0f-4a41-819f-9f2a7efc7353",
   "metadata": {
    "tags": []
   },
   "outputs": [],
   "source": [
    "#missing_attribute_test_search(df),results_for_each_search_term_test(df),rank_ordering_test(df)\n",
    "df = input_csv_file(file_name = \"bodylab_search.csv\")\n",
    "search_list = input_txt_file(file = \"bodylab24_search.txt\")\n",
    "url_list = input_txt_file(file = \"bodylab24_detail.txt\")\n",
    "a=missing_attribute_test(df,columns = [\"Product_Code\",\"Product_Name\", \"Search_Term\", \"rank\",\"shallow_url\",\"DetailURL\"])\n",
    "b=non_empty_results_for_each_search_term_test(df)\n",
    "c = search_terms_not_in_csv_test(df, search_list)\n",
    "d = rank_ordering_test(df)\n",
    "\n",
    "#e = products_not_listed_in_scrape_test(df, url_list)"
   ]
  },
  {
   "cell_type": "code",
   "execution_count": 28,
   "id": "7c15bd82-6a27-4a08-b135-4f7ddd8422c6",
   "metadata": {
    "tags": []
   },
   "outputs": [
    {
     "data": {
      "text/plain": [
       "dict"
      ]
     },
     "execution_count": 28,
     "metadata": {},
     "output_type": "execute_result"
    }
   ],
   "source": [
    "# result = dict()\n",
    "# for search_term in search_list:\n",
    "#     search_term_from_list = search_term[\"value\"]\n",
    "\n",
    "#     # find this search term in csv\n",
    "#     # df_filtered.where(df_filtered[\"Search_Term\"] == term)\n",
    "\n",
    "#     if df.where[df[\"Search_Term\"] == search_term_from_list]:\n",
    "#         result[search_term] = \"Present\"\n",
    "#     else:\n",
    "#         result[search_term] = \"Absent\"\n",
    "#missing_attribute_test(df,columns = [\"Product_Code\",\"Product_Name\", \"Search_Term\", \"rank\",\"shallow_url\",\"DetailURL\"])\n",
    "type(a)"
   ]
  },
  {
   "cell_type": "code",
   "execution_count": 29,
   "id": "3e632f6d-749c-4567-bacd-b807fbb51f5e",
   "metadata": {},
   "outputs": [],
   "source": [
    "df = input_csv_file(file_name = \"bodylab_detail.csv\")\n",
    "#search_list = input_txt_file(file = \"bodylab24_search.txt\")\n",
    "url_list = input_txt_file(file = \"bodylab24_detail.txt\")\n",
    "#a=missing_attribute_test(df,columns = [\"Product_Code\",\"Product_Name\", \"Search_Term\", \"rank\",\"shallow_url\",\"DetailURL\"])\n",
    "#b=non_empty_results_for_each_search_term_test(df)\n",
    "#c = search_terms_not_in_csv_test(df, search_list)\n",
    "#d = rank_ordering_test(df)\n",
    "e = products_not_listed_in_scrape_test(df, url_list)"
   ]
  },
  {
   "cell_type": "code",
   "execution_count": 30,
   "id": "3da51763-13ca-4ba6-9bbe-7de051662e8f",
   "metadata": {},
   "outputs": [
    {
     "data": {
      "text/plain": [
       "{'https://www.bodylab24.de/100-whey-gold-standard-908g.html': 'Present',\n",
       " 'https://www.bodylab24.de/100-whey-gold-standard-450g.html': 'Present',\n",
       " 'https://www.bodylab24.de/serious-mass-5450g.html': 'Present',\n",
       " 'https://www.bodylab24.de/amino-x-aminosaeuren-bcaa-1000g.html': 'Present',\n",
       " 'https://www.bodylab24.de/amino-x-aminosaeuren-bcaa-435g.html': 'Present',\n",
       " 'https://www.bodylab24.de/syntha-6-original-2260g.html': 'Present',\n",
       " 'https://www.bodylab24.de/100-casein-gold-standard-1820g.html': 'Present',\n",
       " 'https://www.bodylab24.de/gold-standard-pre-work-out-330g.html': 'Present',\n",
       " 'https://www.bodylab24.de/n-o-xploder-650g.html': 'Present',\n",
       " 'https://www.bodylab24.de/protein-superfood-chocolate-peanutbutter-430g.html': 'Present',\n",
       " 'https://www.bodylab24.de/protein-crisp-bar-10x65g.html': 'Present',\n",
       " 'https://www.bodylab24.de/gold-standard-bcaa-train-sustain-266g.html': 'Present',\n",
       " 'https://www.bodylab24.de/protein-bar-10x60g.html': 'Present',\n",
       " 'https://www.bodylab24.de/100-whey-gold-standard-2273g.html': 'Present'}"
      ]
     },
     "execution_count": 30,
     "metadata": {},
     "output_type": "execute_result"
    }
   ],
   "source": [
    "e"
   ]
  },
  {
   "cell_type": "code",
   "execution_count": 46,
   "id": "fa19d9b9-987f-4452-8bd4-19f8bbd0502a",
   "metadata": {},
   "outputs": [],
   "source": [
    "# input_json = \"\"\"{\n",
    "#   \"search_csv\": \"bodylab_search.csv\",\n",
    "#   \"detail_csv\": \"bodylab_detail.csv\",\n",
    "#   \"search_txt\": \"bodylab24_search.txt\",\n",
    "#   \"detail_txt\": \"bodylab24_detail.txt\",\n",
    "#   \"tests\":{\n",
    "#     \"missing_attribute_test\": {\n",
    "#       \"status\": 1,\n",
    "#       \"on_file\": \"search csv\",\n",
    "#       \"columns\": [\"Product_Code\",\"Product_Name\", \"Search_Term\", \"rank\",\"shallow_url\",\"DetailURL\"]\n",
    "#     },\n",
    "#     \"non_empty_results_for_each_search_term_test\":{\n",
    "#       \"status\": 1,\n",
    "#       \"on_file\": \"search csv\"\n",
    "#     },\n",
    "#     \"search_terms_not_in_csv_test\":{\n",
    "#       \"status\": 1,\n",
    "#       \"on_file\": \"search csv\"\n",
    "#     },\n",
    "#     \"rank_ordering_test\":{\n",
    "#       \"status\": 1,\n",
    "#       \"on_file\": \"search csv\"\n",
    "#     }\n",
    "#   }\n",
    "# }\"\"\"\n",
    "\n",
    "# with open(\"input.json\") as f:\n",
    "#     json_data = json.load(f)\n",
    "# print(json_data)\n",
    "# search_csv = json_data[\"search_csv\"]\n",
    "# detail_csv = json_data[\"detail_csv\"]\n",
    "# search_txt_file = json_data[\"search_txt\"]\n",
    "# detail_txt_file = json_data[\"detail_txt\"]\n",
    "\n",
    "# for test in json_data[\"tests\"]:\n",
    "#     if test == \"missing_attribute_test\"\n",
    "\n",
    "def json_extract(obj, key):\n",
    "    \"\"\"Recursively fetch values from nested JSON.\"\"\"\n",
    "    arr = []\n",
    "\n",
    "    def extract(obj, arr, key):\n",
    "        \"\"\"Recursively search for values of key in JSON tree.\"\"\"\n",
    "        if isinstance(obj, dict):\n",
    "            for k, v in obj.items():\n",
    "                if isinstance(v, (dict, list)):\n",
    "                    extract(v, arr, key)\n",
    "                elif k == key:\n",
    "                    arr.append(v)\n",
    "        elif isinstance(obj, list):\n",
    "            for item in obj:\n",
    "                extract(item, arr, key)\n",
    "        return arr\n",
    "\n",
    "    values = extract(obj, arr, key)\n",
    "    return values\n",
    "\n"
   ]
  },
  {
   "cell_type": "code",
   "execution_count": 60,
   "id": "86c84c08-bf58-4bb7-916b-72b7609b62d9",
   "metadata": {},
   "outputs": [],
   "source": [
    "#TODO:1) change input json singature to include csv_type before the type of test - Done\n",
    "# 2) organize the driver_fn to run tests with minimum if/else statements - Done\n",
    "# 3) present output json is verbose, add a succint version of result (ex: which columns are missing etc.)\n",
    "# 4) break the concerns into smaller functions (example: make output_json function to output json)\n",
    "# 5) inside main_Driver fn incldue : detail driver fn and search driver fn - Done\n",
    "# 6) replace if/else with dictionary: dict.get(x, default) -  Done\n",
    "# 7) use try, except, else, finally for handling file and json exceptions\n",
    "# 8) export jupter ntbk script to vscode and push\n",
    "# 9) run for detail csv\n",
    "# 10) separate concerns in run_fns \n",
    "\n",
    "run_logic = {\n",
    "    \"missing_attribute_test\":missing_attribute_test,\n",
    "    \"non_empty_results_for_each_search_term_test\":non_empty_results_for_each_search_term_test,\n",
    "    \"search_terms_not_in_csv_test\":search_terms_not_in_csv_test,\n",
    "    \"rank_ordering_test\":rank_ordering_test,\n",
    "    \"products_not_listed_in_scrape_test\":products_not_listed_in_scrape_test,\n",
    "    \"products_not_listed_in_scrape_test\":products_not_listed_in_scrape_test\n",
    "}\n",
    "\n",
    "\n",
    "\n",
    "def run_fns(file):\n",
    "    \n",
    "    run_id = json_extract(file, \"run_id\")[0]\n",
    "    search_csv = json_extract(file, \"search_csv\")[0]\n",
    "    detail_csv = json_extract(file, \"detail_csv\")[0]\n",
    "    search_txt = json_extract(file, \"search_txt\")[0]\n",
    "    detail_txt = json_extract(file, \"detail_txt\")[0]\n",
    "    \n",
    "#     if json_data[\"tests\"][\"missing_attribute_test\"][\"on_file\"] == \"search_csv\":\n",
    "#         search_columns = json_data[\"tests\"][\"missing_attribute_test\"][\"columns\"]\n",
    "        \n",
    "#     elif json_data[\"tests\"][\"missing_attribute_test\"][\"on_file\"] == \"detail_csv\":\n",
    "#         detail_columns = json_data[\"tests\"][\"missing_attribute_test\"][\"columns\"]\n",
    "        \n",
    "    for search_test in file[\"tests\"][\"search_test\"]:\n",
    "        \n",
    "        search_df = input_csv_file(search_csv)\n",
    "        search_list = input_txt_file(search_txt)\n",
    "        \n",
    "        action = run_logic.get(search_test)\n",
    "        print(action)\n",
    "        \n",
    "        if action == missing_attribute_test and file[\"tests\"][\"search_test\"][\"missing_attribute_test\"][\"status\"] == 1:\n",
    "            cols = file[\"tests\"][\"search_test\"][\"missing_attribute_test\"][\"columns\"]\n",
    "            search_missing_attribute = action(df = search_df, columns = cols)\n",
    "        \n",
    "        if action == non_empty_results_for_each_search_term_test and file[\"tests\"][\"search_test\"][\"non_empty_results_for_each_search_term_test\"][\"status\"] == 1:\n",
    "            search_non_empty_attributes = action(df = search_df)\n",
    "            \n",
    "        if action == search_terms_not_in_csv_test and file[\"tests\"][\"search_test\"][\"search_terms_not_in_csv_test\"][\"status\"] == 1:\n",
    "            search_terms_not_in_csv = action(df = search_df, search_list = search_list)\n",
    "    \n",
    "        if action == rank_ordering_test and file[\"tests\"][\"search_test\"][\"rank_ordering_test\"][\"status\"] == 1:\n",
    "            search_rank_order = action(df = search_df)\n",
    "    \n",
    "    for detail_test in file[\"tests\"][\"detail_test\"]:\n",
    "        \n",
    "        detail_df = input_csv_file(detail_csv)\n",
    "        url_list = input_txt_file(detail_txt)\n",
    "        \n",
    "        action = run_logic.get(detail_test)\n",
    "        print(action)\n",
    "        \n",
    "        if action == missing_attribute_test and file[\"tests\"][\"detail_test\"][\"missing_attribute_test\"][\"status\"] == 1:\n",
    "            cols_2 = file[\"tests\"][\"detail_test\"][\"missing_attribute_test\"][\"columns\"]\n",
    "            detail_missing_attribute = action(df = detail_df, columns = cols_2)\n",
    "        \n",
    "        if action == products_not_listed_in_scrape_test and file[\"tests\"][\"detail_test\"][\"products_not_listed_in_scrape_test\"][\"status\"] == 1:\n",
    "            detail_products_not_listed_in_scrape = action(df = detail_df, url_list = url_list)\n",
    "            \n",
    "\n",
    "#     if json_extract(json_data, \"detail_txt\")[0] == \"search_csv\":\n",
    "#     search_df = input_csv_file(file_name = search_csv)\n",
    "#     search_list = input_txt_file(file = search_txt)\n",
    "\n",
    "#     search_missing_attribute = missing_attribute_test(search_df,columns = [\"Product_Code\",\"Product_Name\", \"Search_Term\", \"rank\",\"shallow_url\",\"DetailURL\"])\n",
    "\n",
    "#     search_non_empty_attributes = non_empty_results_for_each_search_term_test(search_df)\n",
    "\n",
    "#     search_terms_not_in_csv = search_terms_not_in_csv_test(search_df, search_list)\n",
    "\n",
    "#     search_rank_order = rank_ordering_test(search_df)\n",
    "\n",
    "    output = {\"run_id\": f\"{run_id}\",\n",
    "        \"search_csv\": f\"{search_csv}\",\n",
    "        \"detail_csv\": f\"{detail_csv}\",\n",
    "        \"search_txt\": f\"{search_txt}\",\n",
    "        \"detail_txt\": f\"{detail_txt}\",\n",
    "        \"search_missing_attributes\": search_missing_attribute,\n",
    "        \"search_non-empty_attributes\":search_non_empty_attributes,\n",
    "        \"search_terms_not_in_csv\":search_terms_not_in_csv,\n",
    "        \"search_rank_order\":search_rank_order,\n",
    "        \"detail_missing_attribute\": detail_missing_attribute,\n",
    "        \"detail_products_not_listed_in_scrape\": detail_products_not_listed_in_scrape\n",
    "    }\n",
    "    \n",
    "    return output\n",
    "# df = input_csv_file(file_name = \"bodylab_detail.csv\")\n",
    "#     search_list = input_txt_file(file = \"bodylab24_search.txt\")\n",
    "#     url_list = input_txt_file(file = \"bodylab24_detail.txt\")\n",
    "#     a=missing_attribute_test(df,columns = [\"Product_Code\",\"Product_Name\", \"Search_Term\", \"rank\",\"shallow_url\",\"DetailURL\"])\n",
    "#     b=non_empty_results_for_each_search_term_test(df)\n",
    "#     c = search_terms_not_in_csv_test(df, search_list)\n",
    "#     d = rank_ordering_test(df)"
   ]
  },
  {
   "cell_type": "code",
   "execution_count": 62,
   "id": "aa6fa0d4-b515-41ca-8f76-a2ebd69003c2",
   "metadata": {
    "tags": []
   },
   "outputs": [
    {
     "name": "stdout",
     "output_type": "stream",
     "text": [
      "<function missing_attribute_test at 0x7f18d7a263a0>\n",
      "<function non_empty_results_for_each_search_term_test at 0x7f18d7c4d040>\n",
      "<function search_terms_not_in_csv_test at 0x7f18d7c4d160>\n",
      "<function rank_ordering_test at 0x7f18d7c4dca0>\n",
      "<function missing_attribute_test at 0x7f18d7a263a0>\n",
      "<function products_not_listed_in_scrape_test at 0x7f18d7c4d280>\n",
      "<function missing_attribute_test at 0x7f18d7a263a0>\n",
      "<function non_empty_results_for_each_search_term_test at 0x7f18d7c4d040>\n",
      "<function search_terms_not_in_csv_test at 0x7f18d7c4d160>\n",
      "<function rank_ordering_test at 0x7f18d7c4dca0>\n",
      "<function missing_attribute_test at 0x7f18d7a263a0>\n",
      "<function products_not_listed_in_scrape_test at 0x7f18d7c4d280>\n"
     ]
    }
   ],
   "source": [
    "with open(\"input2.json\") as f:\n",
    "    json_data = json.load(f)\n",
    "  \n",
    "output = []\n",
    "def run_driver_fn(json_data):\n",
    "    for file in json_data[\"runs\"]:\n",
    "        output.append(run_fns(file))\n",
    "        \n",
    "run_driver_fn(json_data)\n",
    "\n",
    "run_index = json_data[\"run_index\"]\n",
    "\n",
    "output = \"\"\"\n",
    "run_index = {0},\n",
    "runs:{1}\n",
    "\"\"\".format(run_index, output)"
   ]
  },
  {
   "cell_type": "code",
   "execution_count": 63,
   "id": "acaaffdf-29f1-4f65-a176-9f936c0136ba",
   "metadata": {
    "tags": []
   },
   "outputs": [],
   "source": [
    "output = \"\"\"run_index = {0},\n",
    "runs:{1}\n",
    "\"\"\".format(run_index, output)"
   ]
  },
  {
   "cell_type": "code",
   "execution_count": 64,
   "id": "f980b02e-087f-4215-9436-ce00d1192e88",
   "metadata": {},
   "outputs": [],
   "source": [
    "with open(\"output.json\", \"w\") as outfile:\n",
    "    json.dump(output, outfile, indent = 4)"
   ]
  },
  {
   "cell_type": "code",
   "execution_count": 41,
   "id": "c70aa58c-fa61-4c37-be7e-670961752b05",
   "metadata": {},
   "outputs": [
    {
     "data": {
      "text/plain": [
       "\"run_index = 1,\\nruns:\\nrun_index = 1,\\nruns:[{'run_id': 'msje', 'search_csv': 'bodylab_search.csv', 'detail_csv': 'bodylab_detail.csv', 'search_txt': 'bodylab24_search.txt', 'detail_txt': 'bodylab24_detail.txt', 'missing_attributes': {'Product_Code': 'No Missing', 'Product_Name': 'No Missing', 'Search_Term': 'No Missing', 'rank': 'No Missing', 'shallow_url': 'No Missing', 'DetailURL': 'No Missing'}, 'non-empty_attributes': {'Riegel mit hohem Proteingehalt': 'Non-Empty', 'Gewichtsgewinner': 'Non-Empty', 'Kreatin': 'Non-Empty', 'Riegel+mit+hohem+Proteingehalt': 'Non-Empty', 'Massengewinner': 'Non-Empty', 'Protein+Pulver': 'Non-Empty', 'Gewinner': 'Non-Empty', 'Protein-Bodybuilding': 'Non-Empty', 'isoliertes+Eiweiß': 'Non-Empty', 'Proteinriegel': 'Non-Empty', 'vor dem Training': 'Non-Empty', 'Aminos&auml;uren': 'Non-Empty', 'Aminosäuren': 'Non-Empty', 'Aminos': 'Non-Empty', 'Riegel': 'Non-Empty', 'Eiwei': 'Non-Empty', 'Bände': 'Non-Empty', 'zus&auml;tzliches Eiwei&szlig;': 'Non-Empty', 'vor+dem+Training': 'Non-Empty', 'Eiwei&szlig;shaker': 'Non-Empty', 'Proteine': 'Non-Empty', 'isoliertes+Molkenprotein': 'Non-Empty', 'isoliertes Molkenprotein': 'Non-Empty', 'isoliertes Eiwei&szlig;': 'Non-Empty', 'essentielle Aminos&auml;uren': 'Non-Empty', 'Eiweißshaker': 'Non-Empty', 'Protein': 'Non-Empty', 'Protein Pulver': 'Non-Empty', 'Molkenprotein': 'Non-Empty', 'Vitamin-D': 'Non-Empty', 'Muskelmasse': 'Non-Empty', 'essentielle': 'Non-Empty', 'zusätzliches+Eiweiß': 'Non-Empty', 'essentielle+Aminosäuren': 'Non-Empty', 'Bodybuilding': 'Non-Empty'}, 'search_terms_not_in_csv': {'Molkenprotein': 'Present', 'Protein': 'Present', 'Proteine': 'Present', 'isoliertes+Molkenprotein': 'Present', 'isoliertes+Eiweiß': 'Present', 'zusätzliches+Eiweiß': 'Present', 'Protein+Pulver': 'Present', 'Gewichtsgewinner': 'Present', 'Massengewinner': 'Present', 'Gewinner': 'Present', 'Bände': 'Present', 'Muskelmasse': 'Present', 'Aminosäuren': 'Present', 'essentielle+Aminosäuren': 'Present', 'Proteinriegel': 'Present', 'Riegel+mit+hohem+Proteingehalt': 'Present', 'Protein-Bodybuilding': 'Present', 'Eiweißshaker': 'Present', 'Kreatin': 'Present', 'vor+dem+Training': 'Present', 'Vitamin-D': 'Present', 'Bodybuilding': 'Present'}, 'search_rank_order': {'Riegel mit hohem Proteingehalt': 'un-ordered', 'Gewichtsgewinner': 'ordered', 'Kreatin': 'ordered', 'Riegel+mit+hohem+Proteingehalt': 'ordered', 'Massengewinner': 'ordered', 'Protein+Pulver': 'ordered', 'Gewinner': 'ordered', 'Protein-Bodybuilding': 'ordered', 'isoliertes+Eiweiß': 'ordered', 'Proteinriegel': 'ordered', 'vor dem Training': 'un-ordered', 'Aminos&auml;uren': 'un-ordered', 'Aminosäuren': 'ordered', 'Aminos': 'un-ordered', 'Riegel': 'un-ordered', 'Eiwei': 'un-ordered', 'Bände': 'ordered', 'zus&auml;tzliches Eiwei&szlig;': 'un-ordered', 'vor+dem+Training': 'ordered', 'Eiwei&szlig;shaker': 'un-ordered', 'Proteine': 'ordered', 'isoliertes+Molkenprotein': 'ordered', 'isoliertes Molkenprotein': 'un-ordered', 'isoliertes Eiwei&szlig;': 'un-ordered', 'essentielle Aminos&auml;uren': 'un-ordered', 'Eiweißshaker': 'ordered', 'Protein': 'un-ordered', 'Protein Pulver': 'un-ordered', 'Molkenprotein': 'ordered', 'Vitamin-D': 'ordered', 'Muskelmasse': 'ordered', 'essentielle': 'un-ordered', 'zusätzliches+Eiweiß': 'ordered', 'essentielle+Aminosäuren': 'ordered', 'Bodybuilding': 'ordered'}}, {'run_id': 'jdvn', 'search_csv': 'bodylab_search.csv', 'detail_csv': 'bodylab_detail.csv', 'search_txt': 'bodylab24_search.txt', 'detail_txt': 'bodylab24_detail.txt', 'missing_attributes': {'Product_Code': 'No Missing', 'Product_Name': 'No Missing', 'Search_Term': 'No Missing', 'rank': 'No Missing', 'shallow_url': 'No Missing', 'DetailURL': 'No Missing'}, 'non-empty_attributes': {'Riegel mit hohem Proteingehalt': 'Non-Empty', 'Gewichtsgewinner': 'Non-Empty', 'Kreatin': 'Non-Empty', 'Riegel+mit+hohem+Proteingehalt': 'Non-Empty', 'Massengewinner': 'Non-Empty', 'Protein+Pulver': 'Non-Empty', 'Gewinner': 'Non-Empty', 'Protein-Bodybuilding': 'Non-Empty', 'isoliertes+Eiweiß': 'Non-Empty', 'Proteinriegel': 'Non-Empty', 'vor dem Training': 'Non-Empty', 'Aminos&auml;uren': 'Non-Empty', 'Aminosäuren': 'Non-Empty', 'Aminos': 'Non-Empty', 'Riegel': 'Non-Empty', 'Eiwei': 'Non-Empty', 'Bände': 'Non-Empty', 'zus&auml;tzliches Eiwei&szlig;': 'Non-Empty', 'vor+dem+Training': 'Non-Empty', 'Eiwei&szlig;shaker': 'Non-Empty', 'Proteine': 'Non-Empty', 'isoliertes+Molkenprotein': 'Non-Empty', 'isoliertes Molkenprotein': 'Non-Empty', 'isoliertes Eiwei&szlig;': 'Non-Empty', 'essentielle Aminos&auml;uren': 'Non-Empty', 'Eiweißshaker': 'Non-Empty', 'Protein': 'Non-Empty', 'Protein Pulver': 'Non-Empty', 'Molkenprotein': 'Non-Empty', 'Vitamin-D': 'Non-Empty', 'Muskelmasse': 'Non-Empty', 'essentielle': 'Non-Empty', 'zusätzliches+Eiweiß': 'Non-Empty', 'essentielle+Aminosäuren': 'Non-Empty', 'Bodybuilding': 'Non-Empty'}, 'search_terms_not_in_csv': {'Molkenprotein': 'Present', 'Protein': 'Present', 'Proteine': 'Present', 'isoliertes+Molkenprotein': 'Present', 'isoliertes+Eiweiß': 'Present', 'zusätzliches+Eiweiß': 'Present', 'Protein+Pulver': 'Present', 'Gewichtsgewinner': 'Present', 'Massengewinner': 'Present', 'Gewinner': 'Present', 'Bände': 'Present', 'Muskelmasse': 'Present', 'Aminosäuren': 'Present', 'essentielle+Aminosäuren': 'Present', 'Proteinriegel': 'Present', 'Riegel+mit+hohem+Proteingehalt': 'Present', 'Protein-Bodybuilding': 'Present', 'Eiweißshaker': 'Present', 'Kreatin': 'Present', 'vor+dem+Training': 'Present', 'Vitamin-D': 'Present', 'Bodybuilding': 'Present'}, 'search_rank_order': {'Riegel mit hohem Proteingehalt': 'un-ordered', 'Gewichtsgewinner': 'ordered', 'Kreatin': 'ordered', 'Riegel+mit+hohem+Proteingehalt': 'ordered', 'Massengewinner': 'ordered', 'Protein+Pulver': 'ordered', 'Gewinner': 'ordered', 'Protein-Bodybuilding': 'ordered', 'isoliertes+Eiweiß': 'ordered', 'Proteinriegel': 'ordered', 'vor dem Training': 'un-ordered', 'Aminos&auml;uren': 'un-ordered', 'Aminosäuren': 'ordered', 'Aminos': 'un-ordered', 'Riegel': 'un-ordered', 'Eiwei': 'un-ordered', 'Bände': 'ordered', 'zus&auml;tzliches Eiwei&szlig;': 'un-ordered', 'vor+dem+Training': 'ordered', 'Eiwei&szlig;shaker': 'un-ordered', 'Proteine': 'ordered', 'isoliertes+Molkenprotein': 'ordered', 'isoliertes Molkenprotein': 'un-ordered', 'isoliertes Eiwei&szlig;': 'un-ordered', 'essentielle Aminos&auml;uren': 'un-ordered', 'Eiweißshaker': 'ordered', 'Protein': 'un-ordered', 'Protein Pulver': 'un-ordered', 'Molkenprotein': 'ordered', 'Vitamin-D': 'ordered', 'Muskelmasse': 'ordered', 'essentielle': 'un-ordered', 'zusätzliches+Eiweiß': 'ordered', 'essentielle+Aminosäuren': 'ordered', 'Bodybuilding': 'ordered'}}]\\n\\n\""
      ]
     },
     "execution_count": 41,
     "metadata": {},
     "output_type": "execute_result"
    }
   ],
   "source": [
    "output"
   ]
  },
  {
   "cell_type": "code",
   "execution_count": null,
   "id": "266d988b-db8f-4192-86aa-38a5353cbc51",
   "metadata": {},
   "outputs": [],
   "source": []
  }
 ],
 "metadata": {
  "kernelspec": {
   "display_name": "Python 3.7 - Spark (local)",
   "language": "python",
   "name": "spark-3-python"
  },
  "language_info": {
   "codemirror_mode": {
    "name": "ipython",
    "version": 3
   },
   "file_extension": ".py",
   "mimetype": "text/x-python",
   "name": "python",
   "nbconvert_exporter": "python",
   "pygments_lexer": "ipython3",
   "version": "3.8.10"
  }
 },
 "nbformat": 4,
 "nbformat_minor": 5
}
